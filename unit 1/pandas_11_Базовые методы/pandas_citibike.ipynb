{
 "cells": [
  {
   "cell_type": "code",
   "execution_count": 98,
   "metadata": {},
   "outputs": [
    {
     "data": {
      "text/plain": [
       "Timedelta('0 days 00:07:16.837000')"
      ]
     },
     "execution_count": 98,
     "metadata": {},
     "output_type": "execute_result"
    }
   ],
   "source": [
    "import pandas as pd\n",
    "\n",
    "bike_data = pd.read_csv('data/citibike-tripdata.csv')\n",
    "\n",
    "bike_data = bike_data.drop(columns=['start station id', 'start station name', 'end station id', 'end station name'])\n",
    "\n",
    "bike_data['age'] = 2018 - bike_data['birth year']\n",
    "\n",
    "bike_data['starttime'] = pd.to_datetime(bike_data['starttime'])\n",
    "bike_data['stoptime'] = pd.to_datetime(bike_data['stoptime'])\n",
    "\n",
    "bike_data['time_delta'] = bike_data['stoptime'] - bike_data['starttime']\n",
    "\n",
    "bike_data['time_delta'][3]"
   ]
  },
  {
   "cell_type": "code",
   "execution_count": 99,
   "metadata": {},
   "outputs": [
    {
     "data": {
      "text/plain": [
       "115135"
      ]
     },
     "execution_count": 99,
     "metadata": {},
     "output_type": "execute_result"
    }
   ],
   "source": [
    "bike_data['weekend'] = bike_data['starttime'].dt.weekday.apply(lambda x: 1 if x in [5, 6] else 0)\n",
    "\n",
    "len(bike_data[bike_data['weekend'] == 1])"
   ]
  },
  {
   "cell_type": "code",
   "execution_count": 100,
   "metadata": {},
   "outputs": [
    {
     "data": {
      "text/plain": [
       "9.480411004308916"
      ]
     },
     "execution_count": 100,
     "metadata": {},
     "output_type": "execute_result"
    }
   ],
   "source": [
    "def time_of_day_func(hour):\n",
    "    if 0 <= hour <= 6:\n",
    "        return 'night'\n",
    "    elif 6 < hour <= 12:\n",
    "        return 'morning' \n",
    "    elif 12 < hour <= 18:\n",
    "        return 'day'\n",
    "    return 'evening'\n",
    "\n",
    "bike_data['time_of_day'] = bike_data['starttime'].dt.hour.apply(time_of_day_func)\n",
    "\n",
    "\n",
    "bike_data['time_of_day'].value_counts()['day'] / bike_data['time_of_day'].value_counts()['night']\n",
    "\n",
    "\n",
    "\n",
    "        \n",
    "    \n",
    "    "
   ]
  }
 ],
 "metadata": {
  "kernelspec": {
   "display_name": "Python 3",
   "language": "python",
   "name": "python3"
  },
  "language_info": {
   "codemirror_mode": {
    "name": "ipython",
    "version": 3
   },
   "file_extension": ".py",
   "mimetype": "text/x-python",
   "name": "python",
   "nbconvert_exporter": "python",
   "pygments_lexer": "ipython3",
   "version": "3.11.4"
  }
 },
 "nbformat": 4,
 "nbformat_minor": 2
}
