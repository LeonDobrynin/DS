{
 "cells": [
  {
   "cell_type": "code",
   "execution_count": 43,
   "metadata": {},
   "outputs": [
    {
     "data": {
      "text/plain": [
       "76                     NaT\n",
       "172     1678 days 08:00:00\n",
       "565     2766 days 06:00:00\n",
       "566        0 days 01:00:00\n",
       "613      290 days 11:00:00\n",
       "               ...        \n",
       "17447     22 days 00:00:00\n",
       "17567     14 days 00:25:00\n",
       "17617      5 days 22:00:00\n",
       "17890     31 days 05:50:00\n",
       "18104     33 days 15:15:00\n",
       "Name: Time, Length: 284, dtype: timedelta64[ns]"
      ]
     },
     "execution_count": 43,
     "metadata": {},
     "output_type": "execute_result"
    }
   ],
   "source": [
    "import pandas as pd\n",
    "\n",
    "ufo_data = pd.read_csv('data/ufo.csv')\n",
    "\n",
    "ufo_data['Time'] = pd.to_datetime(ufo_data['Time'])\n",
    "\n",
    "ufo_data[ufo_data['State'] == 'NV']['Time'].diff()\n",
    "\n"
   ]
  }
 ],
 "metadata": {
  "kernelspec": {
   "display_name": "Python 3",
   "language": "python",
   "name": "python3"
  },
  "language_info": {
   "codemirror_mode": {
    "name": "ipython",
    "version": 3
   },
   "file_extension": ".py",
   "mimetype": "text/x-python",
   "name": "python",
   "nbconvert_exporter": "python",
   "pygments_lexer": "ipython3",
   "version": "3.10.8"
  }
 },
 "nbformat": 4,
 "nbformat_minor": 2
}
