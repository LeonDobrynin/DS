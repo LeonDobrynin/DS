{
 "cells": [
  {
   "cell_type": "code",
   "execution_count": 97,
   "metadata": {},
   "outputs": [
    {
     "name": "stdout",
     "output_type": "stream",
     "text": [
      "Index(['index', 'Suburb', 'Address', 'Rooms', 'Type', 'Price', 'Method',\n",
      "       'SellerG', 'Date', 'Distance', 'Postcode', 'Bedroom', 'Bathroom', 'Car',\n",
      "       'Landsize', 'BuildingArea', 'YearBuilt', 'CouncilArea', 'Lattitude',\n",
      "       'Longtitude', 'Regionname', 'Propertycount', 'Coordinates'],\n",
      "      dtype='object')\n"
     ]
    }
   ],
   "source": [
    "import pandas as pd\n",
    "\n",
    "melb_data = pd.read_csv('data/melb_data_ps.csv', sep=',')\n",
    "\n",
    "melb_df = melb_data.copy()\n",
    "\n",
    "melb_df.drop(['index', 'Coordinates'], axis=1, inplace=True)\n",
    "\n",
    "print(melb_data.columns)\n",
    "\n",
    "if not all(column in melb_data.columns for column in ['Suburb']):\n",
    "    print(None)\n"
   ]
  },
  {
   "cell_type": "code",
   "execution_count": 98,
   "metadata": {},
   "outputs": [
    {
     "data": {
      "text/plain": [
       "0       -0.231707\n",
       "1       -0.327660\n",
       "2        0.056338\n",
       "3        0.145455\n",
       "4        0.083969\n",
       "           ...   \n",
       "13575   -0.676093\n",
       "13576   -0.429185\n",
       "13577   -0.551601\n",
       "13578   -0.693060\n",
       "13579   -0.527426\n",
       "Name: AreaRatio, Length: 13580, dtype: float64"
      ]
     },
     "metadata": {},
     "output_type": "display_data"
    }
   ],
   "source": [
    "total_rooms = melb_df['Rooms'] + melb_df['Bedroom'] + melb_df['Bathroom']\n",
    "\n",
    "melb_df['MeanRoomsArea'] = melb_df['BuildingArea'] / total_rooms\n",
    "\n",
    "\n",
    "diff_area = melb_df['BuildingArea'] - melb_df['Landsize']\n",
    "sum_area = melb_df['BuildingArea'] + melb_df['Landsize']\n",
    "melb_df['AreaRatio'] = diff_area/sum_area\n",
    "display(melb_df['AreaRatio'])"
   ]
  },
  {
   "cell_type": "code",
   "execution_count": 99,
   "metadata": {},
   "outputs": [
    {
     "data": {
      "text/plain": [
       "0           St\n",
       "1           St\n",
       "2           St\n",
       "3        other\n",
       "4           St\n",
       "         ...  \n",
       "13575       Cr\n",
       "13576       Dr\n",
       "13577       St\n",
       "13578       St\n",
       "13579       St\n",
       "Name: StreetType, Length: 13580, dtype: object"
      ]
     },
     "execution_count": 99,
     "metadata": {},
     "output_type": "execute_result"
    }
   ],
   "source": [
    "melb_df['Date'] = pd.to_datetime(melb_df['Date'], dayfirst=True)\n",
    "\n",
    "def get_street_type(adress):\n",
    "    check_list = ['S', 'W', 'N', 'E']\n",
    "    \n",
    "    adress = adress.split()\n",
    "    street_type = adress[-1]\n",
    "    \n",
    "    if street_type[-1] in check_list:\n",
    "        street_type = adress[-2]\n",
    "    \n",
    "    return street_type\n",
    "        \n",
    "street_types = melb_df['Address'].apply(get_street_type)\n",
    "\n",
    "popular_stypes = street_types.value_counts().nlargest(10).index\n",
    "\n",
    "melb_df['StreetType'] = street_types.apply(lambda x: x if x in popular_stypes else \"other\")\n",
    "\n",
    "melb_df = melb_df.drop('Address', axis=1)\n",
    "\n",
    "melb_df['StreetType']\n"
   ]
  },
  {
   "cell_type": "code",
   "execution_count": 100,
   "metadata": {},
   "outputs": [
    {
     "data": {
      "text/plain": [
       "1081198.6406956792"
      ]
     },
     "execution_count": 100,
     "metadata": {},
     "output_type": "execute_result"
    }
   ],
   "source": [
    "melb_df['WeekdaySale'] = melb_df['Date'].dt.weekday\n",
    "\n",
    "def get_weekend(weekday):\n",
    "    if weekday in [5, 6]:\n",
    "        return 1    \n",
    "    return 0\n",
    "\n",
    "melb_df['Weekend'] = melb_df['WeekdaySale'].apply(get_weekend)\n",
    "\n",
    "melb_df[melb_df['Weekend'] == 1]['Price'].mean()"
   ]
  },
  {
   "cell_type": "code",
   "execution_count": 101,
   "metadata": {},
   "outputs": [
    {
     "data": {
      "text/plain": [
       "1.297709923664122"
      ]
     },
     "execution_count": 101,
     "metadata": {},
     "output_type": "execute_result"
    }
   ],
   "source": [
    "popular_sellers = melb_df['SellerG'].value_counts().nlargest(49).index\n",
    "\n",
    "def isSelletPopular(seller):\n",
    "    if seller in popular_sellers:\n",
    "        return seller\n",
    "    return 'other'\n",
    "\n",
    "melb_df['SellerG'] = melb_df['SellerG'].apply(isSelletPopular)\n",
    "\n",
    "melb_df[melb_df['SellerG'] == 'Nelson']['Price'].min() / melb_df[melb_df['SellerG'] == 'other']['Price'].min()"
   ]
  },
  {
   "cell_type": "code",
   "execution_count": 102,
   "metadata": {},
   "outputs": [
    {
     "name": "stdout",
     "output_type": "stream",
     "text": [
      "<class 'pandas.core.frame.DataFrame'>\n",
      "RangeIndex: 13580 entries, 0 to 13579\n",
      "Data columns (total 25 columns):\n",
      " #   Column         Non-Null Count  Dtype         \n",
      "---  ------         --------------  -----         \n",
      " 0   Suburb         13580 non-null  category      \n",
      " 1   Rooms          13580 non-null  int64         \n",
      " 2   Type           13580 non-null  object        \n",
      " 3   Price          13580 non-null  float64       \n",
      " 4   Method         13580 non-null  object        \n",
      " 5   SellerG        13580 non-null  object        \n",
      " 6   Date           13580 non-null  datetime64[ns]\n",
      " 7   Distance       13580 non-null  float64       \n",
      " 8   Postcode       13580 non-null  int64         \n",
      " 9   Bedroom        13580 non-null  int64         \n",
      " 10  Bathroom       13580 non-null  int64         \n",
      " 11  Car            13580 non-null  int64         \n",
      " 12  Landsize       13580 non-null  float64       \n",
      " 13  BuildingArea   13580 non-null  float64       \n",
      " 14  YearBuilt      13580 non-null  int64         \n",
      " 15  CouncilArea    12211 non-null  object        \n",
      " 16  Lattitude      13580 non-null  float64       \n",
      " 17  Longtitude     13580 non-null  float64       \n",
      " 18  Regionname     13580 non-null  object        \n",
      " 19  Propertycount  13580 non-null  int64         \n",
      " 20  MeanRoomsArea  13580 non-null  float64       \n",
      " 21  AreaRatio      13580 non-null  float64       \n",
      " 22  StreetType     13580 non-null  object        \n",
      " 23  WeekdaySale    13580 non-null  int32         \n",
      " 24  Weekend        13580 non-null  int64         \n",
      "dtypes: category(1), datetime64[ns](1), float64(8), int32(1), int64(8), object(6)\n",
      "memory usage: 2.5+ MB\n"
     ]
    }
   ],
   "source": [
    "\n",
    "\n",
    "suburb_most_popular = melb_df['Suburb'].value_counts().nlargest(119).index\n",
    "\n",
    "def check_suburb(sub):\n",
    "    if sub in suburb_most_popular:\n",
    "        return sub\n",
    "    return 'other'\n",
    "\n",
    "melb_df['Suburb'] = melb_df['Suburb'].apply(check_suburb)\n",
    "\n",
    "melb_df['Suburb'] = melb_df['Suburb'].astype('category')\n",
    "\n",
    "melb_df.info()"
   ]
  }
 ],
 "metadata": {
  "kernelspec": {
   "display_name": "Python 3",
   "language": "python",
   "name": "python3"
  },
  "language_info": {
   "codemirror_mode": {
    "name": "ipython",
    "version": 3
   },
   "file_extension": ".py",
   "mimetype": "text/x-python",
   "name": "python",
   "nbconvert_exporter": "python",
   "pygments_lexer": "ipython3",
   "version": "3.11.4"
  }
 },
 "nbformat": 4,
 "nbformat_minor": 2
}
