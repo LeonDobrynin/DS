{
 "cells": [
  {
   "cell_type": "code",
   "execution_count": 452,
   "metadata": {},
   "outputs": [
    {
     "data": {
      "text/plain": [
       "chlorhexidine    26\n",
       "cyntomycin       18\n",
       "afobazol          7\n",
       "dtype: int64"
      ]
     },
     "metadata": {},
     "output_type": "display_data"
    }
   ],
   "source": [
    "import pandas as pd\n",
    "import numpy as np\n",
    "\n",
    "def create_medications(names, counts):\n",
    "    global medications \n",
    "    medications = pd.Series(data = counts, index=names)\n",
    "    return medications\n",
    "display(create_medications(names = ['chlorhexidine', 'cyntomycin', 'afobazol'], counts = [26, 18, 7]))\n",
    "\n"
   ]
  },
  {
   "cell_type": "code",
   "execution_count": 453,
   "metadata": {},
   "outputs": [
    {
     "name": "stdout",
     "output_type": "stream",
     "text": [
      "353\n"
     ]
    }
   ],
   "source": [
    "def create_companyDF(income, expenses, years):\n",
    "    companyDF = pd.DataFrame({'income': income, 'expenses': expenses}, index=years)\n",
    "    return companyDF\n",
    "\n",
    "def get_profit(year, df):\n",
    "    if year in df.index:\n",
    "        return df.loc[year, 'income'] - df.loc[year, 'expenses']\n",
    "    else:\n",
    "        return None\n",
    "\n",
    "print(get_profit(year = 2018, df = create_companyDF([612, 516, 329, 158], [136,163,250,361], [2017,2018,2019,2020])))\n",
    "    "
   ]
  },
  {
   "cell_type": "code",
   "execution_count": 454,
   "metadata": {},
   "outputs": [],
   "source": [
    "melb_data = pd.read_csv('data/melb_data.csv', sep=',')\n",
    "\n",
    "melb_data.insert(0, 'Index', range(13580))\n",
    "\n",
    "#melb_data['Car'] = melb_data['Car'].astype('int64')\n",
    "melb_data['Bedroom2'] = melb_data['Bedroom2'].astype('int64')\n",
    "melb_data['Bathroom'] = melb_data['Bathroom'].astype('int64')\n",
    "melb_data['Propertycount'] = melb_data['Propertycount'].astype('int64')\n",
    "melb_data['Postcode'] = melb_data['Postcode'].astype('int64')\n",
    "#melb_data['YearBuilt'] = melb_data['YearBuilt'].astype('int64')\n",
    "\n",
    "melb_data['Coordinates'] = melb_data.apply(lambda row: (row['Lattitude'], row['Longtitude']), axis=1)\n",
    "\n"
   ]
  },
  {
   "cell_type": "code",
   "execution_count": 455,
   "metadata": {},
   "outputs": [
    {
     "data": {
      "text/plain": [
       "Bedroom2\n",
       "3     5896\n",
       "2     3737\n",
       "4     2601\n",
       "1      691\n",
       "5      556\n",
       "6       63\n",
       "0       16\n",
       "7       10\n",
       "8        5\n",
       "9        3\n",
       "20       1\n",
       "10       1\n",
       "Name: count, dtype: int64"
      ]
     },
     "metadata": {},
     "output_type": "display_data"
    }
   ],
   "source": [
    "display(melb_data['Bedroom2'].value_counts())"
   ]
  }
 ],
 "metadata": {
  "kernelspec": {
   "display_name": "Python 3",
   "language": "python",
   "name": "python3"
  },
  "language_info": {
   "codemirror_mode": {
    "name": "ipython",
    "version": 3
   },
   "file_extension": ".py",
   "mimetype": "text/x-python",
   "name": "python",
   "nbconvert_exporter": "python",
   "pygments_lexer": "ipython3",
   "version": "3.10.8"
  }
 },
 "nbformat": 4,
 "nbformat_minor": 2
}
