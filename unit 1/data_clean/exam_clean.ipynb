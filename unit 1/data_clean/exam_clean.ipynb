{
 "cells": [
  {
   "cell_type": "code",
   "execution_count": 60,
   "metadata": {},
   "outputs": [
    {
     "name": "stdout",
     "output_type": "stream",
     "text": [
      "Pregnancies 4\n",
      "Glucose 0\n",
      "BloodPressure 14\n",
      "SkinThickness 87\n",
      "BMI 8\n",
      "DiabetesPedigreeFunction 29\n",
      "Age 9\n",
      "Outcome 0\n"
     ]
    }
   ],
   "source": [
    "import pandas as pd\n",
    "import seaborn as sns\n",
    "import plotly.express as px\n",
    "import numpy as np\n",
    "\n",
    "diabet_data = pd.read_csv('data/diabetes_data.csv')\n",
    "\n",
    "clean_diabet_data = diabet_data.drop_duplicates()\n",
    "\n",
    "def low_informative_feature(data):\n",
    "    low_information_cols = []\n",
    "    for col in data.columns:\n",
    "        top_freq = data[col].value_counts(normalize=True).max()\n",
    "        nunique_ratio = data[col].nunique() / data[col].count()\n",
    "        if top_freq > 0.95:\n",
    "            low_information_cols.append(col)\n",
    "        if nunique_ratio > 0.95:\n",
    "            low_information_cols.append(col)\n",
    "    return low_information_cols\n",
    "low_information_cols = low_informative_feature(clean_diabet_data)\n",
    "\n",
    "clean_diabet_data = clean_diabet_data.drop('Gender', axis=1)\n",
    "\n",
    "null_columns = ['Glucose', 'BloodPressure', 'SkinThickness', 'Insulin', 'BMI']\n",
    "\n",
    "clean_diabet_data[null_columns] = clean_diabet_data[null_columns].applymap(lambda x: np.nan if x == 0 else x)\n",
    "\n",
    "for col in null_columns:\n",
    "    if clean_diabet_data[col].isnull().sum() / len(clean_diabet_data[col]) > .3:\n",
    "        clean_diabet_data = clean_diabet_data.drop(col, axis=1)\n",
    "\n",
    "\n",
    "clean_diabet_data = clean_diabet_data.dropna(thresh=6)\n",
    "\n",
    "clean_diabet_data = clean_diabet_data.fillna(clean_diabet_data.median())\n",
    "\n",
    "def outliers_iqr_mod(data, feature, left=1.5, right=1.5, log_scale=False):\n",
    "    if log_scale:\n",
    "        x = np.log(data[feature])\n",
    "    else:\n",
    "        x = data[feature]\n",
    "    quartile_1, quartile_3 = x.quantile(0.25), x.quantile(0.75),\n",
    "    iqr = quartile_3 - quartile_1\n",
    "    lower_bound = quartile_1 - (iqr * left)\n",
    "    upper_bound = quartile_3 + (iqr * right)\n",
    "    outliers = data[(x < lower_bound) | (x > upper_bound)]\n",
    "    cleaned = data[(x >= lower_bound) & (x <= upper_bound)]\n",
    "    return outliers, cleaned\n",
    "\n",
    "for col in clean_diabet_data.columns:\n",
    "    outliers, cleaned = outliers_iqr_mod(clean_diabet_data, col)\n",
    "    \n",
    "    print(col, outliers.shape[0])\n",
    "\n",
    "\n"
   ]
  }
 ],
 "metadata": {
  "kernelspec": {
   "display_name": "Python 3",
   "language": "python",
   "name": "python3"
  },
  "language_info": {
   "codemirror_mode": {
    "name": "ipython",
    "version": 3
   },
   "file_extension": ".py",
   "mimetype": "text/x-python",
   "name": "python",
   "nbconvert_exporter": "python",
   "pygments_lexer": "ipython3",
   "version": "3.10.8"
  }
 },
 "nbformat": 4,
 "nbformat_minor": 2
}
