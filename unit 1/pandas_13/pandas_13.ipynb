{
 "cells": [
  {
   "cell_type": "code",
   "execution_count": 41,
   "metadata": {},
   "outputs": [
    {
     "name": "stdout",
     "output_type": "stream",
     "text": [
      "<class 'pandas.core.frame.DataFrame'>\n",
      "RangeIndex: 13580 entries, 0 to 13579\n",
      "Data columns (total 26 columns):\n",
      " #   Column           Non-Null Count  Dtype         \n",
      "---  ------           --------------  -----         \n",
      " 0   Suburb           13580 non-null  category      \n",
      " 1   Rooms            13580 non-null  int64         \n",
      " 2   Type             13580 non-null  category      \n",
      " 3   Price            13580 non-null  float64       \n",
      " 4   Method           13580 non-null  category      \n",
      " 5   SellerG          13580 non-null  category      \n",
      " 6   Date             13580 non-null  datetime64[ns]\n",
      " 7   Distance         13580 non-null  float64       \n",
      " 8   Postcode         13580 non-null  int64         \n",
      " 9   Bedroom          13580 non-null  int64         \n",
      " 10  Bathroom         13580 non-null  int64         \n",
      " 11  Car              13580 non-null  int64         \n",
      " 12  Landsize         13580 non-null  float64       \n",
      " 13  BuildingArea     13580 non-null  float64       \n",
      " 14  CouncilArea      12211 non-null  category      \n",
      " 15  Lattitude        13580 non-null  float64       \n",
      " 16  Longtitude       13580 non-null  float64       \n",
      " 17  Regionname       13580 non-null  category      \n",
      " 18  Propertycount    13580 non-null  int64         \n",
      " 19  MeanRoomsSquare  13580 non-null  float64       \n",
      " 20  AreaRatio        13580 non-null  float64       \n",
      " 21  MonthSale        13580 non-null  category      \n",
      " 22  AgeBuilding      13580 non-null  int64         \n",
      " 23  WeekdaySale      13580 non-null  category      \n",
      " 24  StreetType       13580 non-null  category      \n",
      " 25  Weekend          13580 non-null  category      \n",
      "dtypes: category(10), datetime64[ns](1), float64(8), int64(7)\n",
      "memory usage: 1.8 MB\n"
     ]
    }
   ],
   "source": [
    "import pandas as pd\n",
    "\n",
    "melb_df = pd.read_csv('data/melb_data_fe.csv')\n",
    "\n",
    "melb_df['Date'] = pd.to_datetime(melb_df['Date'])\n",
    "\n",
    "melb_df['Date'].dt.quarter.value_counts()\n",
    "\n",
    "def is_category(column):\n",
    "    if column.nunique() < 150:\n",
    "        return 1\n",
    "    \n",
    "columns_to_convert = [col for col in melb_df.columns if col not in ['Date', 'Rooms', 'Bedroom', 'Bathroom', 'Car'] and melb_df[col].nunique() < 150]\n",
    "\n",
    "\n",
    "melb_df[columns_to_convert] = melb_df[columns_to_convert].astype('category')\n",
    "\n",
    "melb_df.info()\n",
    "    "
   ]
  },
  {
   "cell_type": "code",
   "execution_count": 42,
   "metadata": {},
   "outputs": [
    {
     "data": {
      "text/plain": [
       "1300000.0"
      ]
     },
     "execution_count": 42,
     "metadata": {},
     "output_type": "execute_result"
    }
   ],
   "source": [
    "sorted_df = melb_df.copy()\n",
    "\n",
    "m1 = sorted_df['Type'] == 'townhouse'\n",
    "m2 = sorted_df['Rooms'] > 2\n",
    "\n",
    "\n",
    "\n",
    "sorted_df = sorted_df[m1 & m2].sort_values(ignore_index=True, by=['Rooms', 'MeanRoomsSquare'], ascending=[True, False])\n",
    "\n",
    "sorted_df.loc[18,'Price']"
   ]
  }
 ],
 "metadata": {
  "kernelspec": {
   "display_name": "Python 3",
   "language": "python",
   "name": "python3"
  },
  "language_info": {
   "codemirror_mode": {
    "name": "ipython",
    "version": 3
   },
   "file_extension": ".py",
   "mimetype": "text/x-python",
   "name": "python",
   "nbconvert_exporter": "python",
   "pygments_lexer": "ipython3",
   "version": "3.11.4"
  }
 },
 "nbformat": 4,
 "nbformat_minor": 2
}
