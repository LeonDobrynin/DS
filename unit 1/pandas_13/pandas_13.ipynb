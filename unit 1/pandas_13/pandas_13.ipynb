{
 "cells": [
  {
   "cell_type": "code",
   "execution_count": 137,
   "metadata": {},
   "outputs": [
    {
     "name": "stdout",
     "output_type": "stream",
     "text": [
      "<class 'pandas.core.frame.DataFrame'>\n",
      "RangeIndex: 13580 entries, 0 to 13579\n",
      "Data columns (total 26 columns):\n",
      " #   Column           Non-Null Count  Dtype         \n",
      "---  ------           --------------  -----         \n",
      " 0   Suburb           13580 non-null  category      \n",
      " 1   Rooms            13580 non-null  int64         \n",
      " 2   Type             13580 non-null  category      \n",
      " 3   Price            13580 non-null  float64       \n",
      " 4   Method           13580 non-null  category      \n",
      " 5   SellerG          13580 non-null  category      \n",
      " 6   Date             13580 non-null  datetime64[ns]\n",
      " 7   Distance         13580 non-null  float64       \n",
      " 8   Postcode         13580 non-null  int64         \n",
      " 9   Bedroom          13580 non-null  int64         \n",
      " 10  Bathroom         13580 non-null  int64         \n",
      " 11  Car              13580 non-null  int64         \n",
      " 12  Landsize         13580 non-null  float64       \n",
      " 13  BuildingArea     13580 non-null  float64       \n",
      " 14  CouncilArea      12211 non-null  category      \n",
      " 15  Lattitude        13580 non-null  float64       \n",
      " 16  Longtitude       13580 non-null  float64       \n",
      " 17  Regionname       13580 non-null  category      \n",
      " 18  Propertycount    13580 non-null  int64         \n",
      " 19  MeanRoomsSquare  13580 non-null  float64       \n",
      " 20  AreaRatio        13580 non-null  float64       \n",
      " 21  MonthSale        13580 non-null  category      \n",
      " 22  AgeBuilding      13580 non-null  int64         \n",
      " 23  WeekdaySale      13580 non-null  category      \n",
      " 24  StreetType       13580 non-null  category      \n",
      " 25  Weekend          13580 non-null  category      \n",
      "dtypes: category(10), datetime64[ns](1), float64(8), int64(7)\n",
      "memory usage: 1.8 MB\n"
     ]
    }
   ],
   "source": [
    "import pandas as pd\n",
    "\n",
    "melb_df = pd.read_csv('data/melb_data_fe.csv')\n",
    "\n",
    "melb_df['Date'] = pd.to_datetime(melb_df['Date'])\n",
    "\n",
    "melb_df['Date'].dt.quarter.value_counts()\n",
    "\n",
    "def is_category(column):\n",
    "    if column.nunique() < 150:\n",
    "        return 1\n",
    "    \n",
    "columns_to_convert = [col for col in melb_df.columns if col not in ['Date', 'Rooms', 'Bedroom', 'Bathroom', 'Car'] and melb_df[col].nunique() < 150]\n",
    "\n",
    "\n",
    "melb_df[columns_to_convert] = melb_df[columns_to_convert].astype('category')\n",
    "\n",
    "melb_df.info()\n",
    "    "
   ]
  },
  {
   "cell_type": "code",
   "execution_count": 138,
   "metadata": {},
   "outputs": [
    {
     "data": {
      "text/plain": [
       "1300000.0"
      ]
     },
     "execution_count": 138,
     "metadata": {},
     "output_type": "execute_result"
    }
   ],
   "source": [
    "sorted_df = melb_df.copy()\n",
    "\n",
    "m1 = sorted_df['Type'] == 'townhouse'\n",
    "m2 = sorted_df['Rooms'] > 2\n",
    "\n",
    "\n",
    "\n",
    "sorted_df = sorted_df[m1 & m2].sort_values(ignore_index=True, by=['Rooms', 'MeanRoomsSquare'], ascending=[True, False])\n",
    "\n",
    "sorted_df.loc[18,'Price']"
   ]
  },
  {
   "cell_type": "code",
   "execution_count": 139,
   "metadata": {},
   "outputs": [
    {
     "data": {
      "text/plain": [
       "SellerG\n",
       "Jellis           414121833.0\n",
       "Nelson           379767500.0\n",
       "other            365038432.0\n",
       "Barry            296723050.0\n",
       "hockingstuart    282834310.0\n",
       "Marshall         253957888.0\n",
       "Ray              249572986.0\n",
       "Buxton           219104000.0\n",
       "Biggin           110429500.0\n",
       "Fletchers        108847700.0\n",
       "Noel              88129800.0\n",
       "Woodards          85977500.0\n",
       "Greg              85621000.0\n",
       "McGrath           78386500.0\n",
       "Harcourts         68720250.0\n",
       "Jas               59281600.0\n",
       "Brad              55955000.0\n",
       "RT                50498000.0\n",
       "Kay               48569500.0\n",
       "Miles             47582000.0\n",
       "YPA               46354350.0\n",
       "Hodges            43231000.0\n",
       "Gary              39138400.0\n",
       "Sweeney           36882750.0\n",
       "Stockdale         35409800.0\n",
       "Raine             30687700.0\n",
       "RW                29261000.0\n",
       "Village           26473000.0\n",
       "HAR               25568000.0\n",
       "O'Brien           23855508.0\n",
       "Purplebricks      23401000.0\n",
       "Love              23365500.0\n",
       "Williams          23297000.0\n",
       "Chisholm          23225000.0\n",
       "Philip            22051800.0\n",
       "Collins           20217000.0\n",
       "Eview             19791500.0\n",
       "C21               19515000.0\n",
       "Buckingham        19033000.0\n",
       "Douglas           18341000.0\n",
       "Nick              16890000.0\n",
       "Rendina           15422276.0\n",
       "McDonald          14637500.0\n",
       "Alexkarbon        10985000.0\n",
       "Bells              8656000.0\n",
       "Thomson            8332000.0\n",
       "Moonee             7328000.0\n",
       "Burnham            4550500.0\n",
       "Cayzer             4439000.0\n",
       "LITTLE             2742000.0\n",
       "Name: Price, dtype: float64"
      ]
     },
     "execution_count": 139,
     "metadata": {},
     "output_type": "execute_result"
    }
   ],
   "source": [
    "m1 = pd.to_datetime('2017-05-01') <= melb_df['Date']\n",
    "m2 = melb_df['Date'] <= pd.to_datetime('2017-09-01')\n",
    "\n",
    "\n",
    "melb_df[m1 & m2].groupby('SellerG')['Price'].sum(numeric_only=True).sort_values(ascending=False)"
   ]
  },
  {
   "cell_type": "code",
   "execution_count": 140,
   "metadata": {},
   "outputs": [
    {
     "data": {
      "text/plain": [
       "SellerG\n",
       "Nick             900000\n",
       "Marshall         715000\n",
       "Cayzer           707500\n",
       "Kay              695000\n",
       "Noel             693250\n",
       "Buxton           670000\n",
       "Fletchers        653000\n",
       "Chisholm         640000\n",
       "Philip           636000\n",
       "RT               630000\n",
       "C21              625500\n",
       "RW               625500\n",
       "Moonee           622000\n",
       "O'Brien          618500\n",
       "Hodges           605500\n",
       "Eview            602000\n",
       "Woodards         600000\n",
       "Collins          592000\n",
       "Jellis           591750\n",
       "Purplebricks     582500\n",
       "Williams         577000\n",
       "hockingstuart    566000\n",
       "Alexkarbon       560000\n",
       "Miles            555000\n",
       "Buckingham       553000\n",
       "Gary             550000\n",
       "Biggin           548000\n",
       "Greg             547500\n",
       "McGrath          542500\n",
       "other            535000\n",
       "Nelson           530000\n",
       "HAR              518000\n",
       "McDonald         502500\n",
       "Barry            502000\n",
       "Harcourts        500000\n",
       "Ray              497500\n",
       "Thomson          495000\n",
       "Douglas          494500\n",
       "Brad             465000\n",
       "Rendina          459000\n",
       "Bells            457500\n",
       "Jas              455000\n",
       "Raine            447500\n",
       "LITTLE           447000\n",
       "YPA              443500\n",
       "Love             440000\n",
       "Village          420000\n",
       "Stockdale        410000\n",
       "Sweeney          381000\n",
       "Burnham          305000\n",
       "Name: unit, dtype: int64"
      ]
     },
     "execution_count": 140,
     "metadata": {},
     "output_type": "execute_result"
    }
   ],
   "source": [
    "melb_df.pivot_table(\n",
    "    values='Price',\n",
    "    index='SellerG',\n",
    "    columns='Type',\n",
    "    fill_value=0,\n",
    "    aggfunc='median'\n",
    ")['unit'].sort_values(ascending=False)"
   ]
  }
 ],
 "metadata": {
  "kernelspec": {
   "display_name": "Python 3",
   "language": "python",
   "name": "python3"
  },
  "language_info": {
   "codemirror_mode": {
    "name": "ipython",
    "version": 3
   },
   "file_extension": ".py",
   "mimetype": "text/x-python",
   "name": "python",
   "nbconvert_exporter": "python",
   "pygments_lexer": "ipython3",
   "version": "3.10.8"
  }
 },
 "nbformat": 4,
 "nbformat_minor": 2
}
